{
 "cells": [
  {
   "cell_type": "markdown",
   "metadata": {},
   "source": [
    "# EDA students academic performance in math."
   ]
  },
  {
   "cell_type": "code",
   "execution_count": null,
   "metadata": {},
   "outputs": [],
   "source": [
    "import pandas as pd\n",
    "import numpy as np\n",
    "import matplotlib.pyplot as plt\n",
    "import seaborn as sns\n",
    "import sys\n",
    "from itertools import combinations\n",
    "from scipy.stats import ttest_ind\n",
    "from scipy.stats import chi2_contingency"
   ]
  },
  {
   "cell_type": "code",
   "execution_count": null,
   "metadata": {},
   "outputs": [],
   "source": [
    "stud_math = pd.read_csv('stud_math.csv')"
   ]
  },
  {
   "cell_type": "markdown",
   "metadata": {},
   "source": [
    "## Initial data inspection"
   ]
  },
  {
   "cell_type": "code",
   "execution_count": null,
   "metadata": {},
   "outputs": [],
   "source": [
    "stud_math.head(15)"
   ]
  },
  {
   "cell_type": "code",
   "execution_count": null,
   "metadata": {},
   "outputs": [],
   "source": [
    "stud_math.info()"
   ]
  },
  {
   "cell_type": "code",
   "execution_count": null,
   "metadata": {},
   "outputs": [],
   "source": [
    "# Checking duplicates in dataframe.\n",
    "stud_math.loc[stud_math.duplicated() == True]"
   ]
  },
  {
   "cell_type": "markdown",
   "metadata": {},
   "source": [
    "## Preprocessing"
   ]
  },
  {
   "cell_type": "code",
   "execution_count": null,
   "metadata": {},
   "outputs": [],
   "source": [
    "# 1. Make a pattern of primary look on columns in dataframe (info, counts and so on).\n",
    "\n",
    "\n",
    "def get_describe(column):\n",
    "\n",
    "    display(stud_math[column].value_counts())\n",
    "    display(stud_math[column].describe())\n",
    "    nul = stud_math[column].isna().sum()\n",
    "    mode = stud_math[column].mode()[0]\n",
    "    unique = stud_math[column].nunique()\n",
    "\n",
    "    print('Уникальных значений:  {},'.format(unique), 'Чаще всего встречается значение: {},'.format(mode),\n",
    "          'Пустых значений: {}'.format(nul))\n",
    "\n",
    "# 2. Create function to get outliers from quantitative variables distribution.\n",
    "\n",
    "\n",
    "def get_outliers(column):\n",
    "\n",
    "    Q1 = stud_math[column].quantile(q=0.25, interpolation='midpoint')\n",
    "    Q3 = stud_math[column].quantile(q=0.75, interpolation='midpoint')\n",
    "    IQR = Q3 - Q1\n",
    "    W1 = stud_math[stud_math[column] < Q1 -\n",
    "                   1.5*IQR][column]  # bottom outlier series\n",
    "    W3 = stud_math[stud_math[column] > Q3 +\n",
    "                   1.5*IQR][column]  # upper outlier series\n",
    "\n",
    "    if (len(W1.value_counts()) == 0) & (len(W3.value_counts()) == 0):\n",
    "        print('There is no outliers')\n",
    "    elif len(W1.value_counts()) > 0:\n",
    "        print('There are bottom outliers:', W1.values)\n",
    "    elif len(W3.value_counts()) > 0:\n",
    "        print('There are upper outliers:', W3.values)\n",
    "\n",
    "\n",
    "# 3. Create function to check Chi2 method between category variables.\n",
    "# df = dataframe, col1,col2 = columns which we want to get dependence, alpha = level of method,\n",
    "# all_rel = 1 - we want to see all H0 and H1 relations, 0 - to see only H1 dependent.\n",
    "\n",
    "def get_chi2(df, col1, col2, alpha, all_rel):\n",
    "\n",
    "    # First make a pivot table with needed variables.\n",
    "    pivot = df.pivot_table(values=['score'], index=[col1], columns=[col2],\n",
    "                           aggfunc='count', fill_value=0)\n",
    "\n",
    "    # Method Chi2: H0 - variables are independent. H1 - variables are dependent.\n",
    "    # We need to fill list of lists - chi2_list, from pivot above.\n",
    "\n",
    "    row_num = df[col1].nunique()\n",
    "    col_num = df[col2].nunique()\n",
    "    chi2_list = []\n",
    "    pivot_val = 0\n",
    "\n",
    "    for i in range(0, row_num):\n",
    "        row_list = []\n",
    "        for j in range(0, col_num):\n",
    "            try:\n",
    "                # pivot.iat extract one value from each position in out pivot table.\n",
    "                pivot_val = pivot.iat[i, j]\n",
    "            except:\n",
    "                pivot_val = -99\n",
    "                print(\"\\n В признаке {} при индексах {}, {} возникает следующая ошибка: \".format(col2, i, j),\n",
    "                      sys.exc_info()[1])\n",
    "            if pivot_val != -99:\n",
    "                row_list.append(pivot_val)\n",
    "\n",
    "        chi2_list.append(row_list)\n",
    "\n",
    "    # Getting parameters of Chi2- method and checking the hypothesis.\n",
    "\n",
    "    stat, p, dof, expected = chi2_contingency(chi2_list)\n",
    "\n",
    "    if all_rel == 1:\n",
    "        display(pivot)\n",
    "        if p <= alpha:\n",
    "            print(\"p value is \" + str(p))\n",
    "            print('Зависимы (H1 true)')\n",
    "        else:\n",
    "            print(\"p value is \" + str(p))\n",
    "            print('Независимы (H0 true)')\n",
    "    elif all_rel == 0:\n",
    "        if p <= alpha:\n",
    "            display(pivot)\n",
    "            print(\"p value is \" + str(p))\n",
    "            print('Зависимы (H1 true)')\n",
    "\n",
    "# 4. Create function to check current column on relation\n",
    "# with all other category columns in dataframe with Chi2-method.\n",
    "\n",
    "\n",
    "def get_relation(df, column, all_rel):\n",
    "\n",
    "    df_cat = df.drop(['age', 'absences', 'score', column], axis=1)\n",
    "\n",
    "    for col in df_cat.columns:\n",
    "        get_chi2(df, column, col, 0.05, all_rel)\n",
    "\n",
    "\n",
    "# 5. Create function of getting boxplots, where y='score', x='current column'\n",
    "\n",
    "def get_boxplot(df, column):\n",
    "    fig, ax = plt.subplots(figsize=(14, 4))\n",
    "    sns.boxplot(x=column, y='score',\n",
    "                data=df,\n",
    "                ax=ax)\n",
    "    plt.xticks(rotation=45)\n",
    "    ax.set_title('Boxplot for ' + column)\n",
    "    plt.show()\n",
    "\n",
    "\n",
    "# 6. Create function of checking T-test.\n",
    "\n",
    "def get_ttest(df, column):\n",
    "    cols = df.loc[:, column].value_counts().index\n",
    "    combinations_all = list(combinations(cols, 2))\n",
    "    for comb in combinations_all:\n",
    "        p_test = ttest_ind(df.loc[df.loc[:, column] == comb[0], 'score'],\n",
    "                           df.loc[df.loc[:, column] == comb[1], 'score']).pvalue\n",
    "        if p_test <= 0.05/len(combinations_all):\n",
    "            print('p_value = {}'.format(p_test * len(combinations_all)))\n",
    "            print('Найдены статистически значимые различия для столбца', column)\n",
    "            break"
   ]
  },
  {
   "cell_type": "markdown",
   "metadata": {},
   "source": [
    "## Primary columns analysis"
   ]
  },
  {
   "cell_type": "markdown",
   "metadata": {},
   "source": [
    "### Количественные переменные"
   ]
  },
  {
   "cell_type": "markdown",
   "metadata": {},
   "source": [
    "#### Age"
   ]
  },
  {
   "cell_type": "code",
   "execution_count": null,
   "metadata": {},
   "outputs": [],
   "source": [
    "get_describe('age')"
   ]
  },
  {
   "cell_type": "code",
   "execution_count": null,
   "metadata": {},
   "outputs": [],
   "source": [
    "stud_math.age.plot(kind='hist', grid=True, title='Age')"
   ]
  },
  {
   "cell_type": "markdown",
   "metadata": {},
   "source": [
    "Из гистограммы видно, что есть выбросы, найдем их более точно с помощью функции нахождения выбросов (из блока предобработки):"
   ]
  },
  {
   "cell_type": "code",
   "execution_count": null,
   "metadata": {},
   "outputs": [],
   "source": [
    "get_outliers('age')"
   ]
  },
  {
   "cell_type": "markdown",
   "metadata": {},
   "source": [
    "Итак, уникальных значений возрастов 8, из которых самый встречающийся это 16 лет. Очень малое количество студентов от 20 до 22х лет, скорее всего это второгодки, кто не может сдать экзамен (проверим это дальше). Исходя их метода интерквартильного расстояния имеется один выброс в 22 года, но по здравому смыслу это никак не помешает дальнейшему исследованию, тем более, что разница от предыдущего возраста всего 1 год (если было бы 50 лет, мы бы выкинули его из статистики)."
   ]
  },
  {
   "cell_type": "markdown",
   "metadata": {},
   "source": [
    "#### Absences"
   ]
  },
  {
   "cell_type": "code",
   "execution_count": null,
   "metadata": {},
   "outputs": [],
   "source": [
    "get_describe('absences')"
   ]
  },
  {
   "cell_type": "code",
   "execution_count": null,
   "metadata": {},
   "outputs": [],
   "source": [
    "stud_math.absences.plot(kind='hist', grid=True, title='Absences')"
   ]
  },
  {
   "cell_type": "markdown",
   "metadata": {},
   "source": [
    "Всего 36 уникальных значений пропусков школы. Имеется 12 незаполненных значений. \n",
    "По гистограмме мы видим, что есть большие выбросы в 385 и 212 дней.\n",
    "Школьных календарных дней не более 180, поэтому два значения в 385 и 212 нужно точно исключить или заменить.\n",
    "Проверим с помощью функции какие точно получаются выбросы:"
   ]
  },
  {
   "cell_type": "code",
   "execution_count": null,
   "metadata": {},
   "outputs": [],
   "source": [
    "get_outliers('absences')"
   ]
  },
  {
   "cell_type": "markdown",
   "metadata": {},
   "source": [
    "По формуле интерквартильного расстояния у нас верхние выбросы начинатся с 21, просто потому что самое большое число студентов не пропускали занятия (0 встречается 111 раз). По здравому смыслу мы не будем убирать все данные, кроме тех, что противоречат логике - это 212 и 385. Посмотрим строки датафрейма, где находятся эти два значения. Заменим 212 и 385 на медиану, так как среднее искажено в большую сторону из-за этих двух значений."
   ]
  },
  {
   "cell_type": "code",
   "execution_count": null,
   "metadata": {},
   "outputs": [],
   "source": [
    "stud_math.loc[(stud_math.absences == 212) | (stud_math.absences == 385)][['reason', 'traveltime', 'studytime', \n",
    "                                                                          'failures','schoolsup', 'paid', \n",
    "                                                                          'activities', 'higher', 'romantic', \n",
    "                                                                          'famrel', 'freetime', 'goout',\n",
    "                                                                          'Medu', 'Fedu', 'health',\n",
    "                                                                          'Pstatus', 'absences', 'score']]"
   ]
  },
  {
   "cell_type": "markdown",
   "metadata": {},
   "source": [
    "Сравним различающиеся показатели этих обоих учеников:\n",
    "\n",
    "- Ученик 222 судя по данным учится очень хорошо (оценка 85 баллов) с поддержкой школы, но без платных услуг, возможно он один из лучших учеников - стипендиатов, не выходит гулять с друзьями (goout=1), поэтому заменим пропуски занятий на 0. Возможно просто кто-то пошутил, занося такое большое количество пропусков (завистливые одноклассники).\n",
    "\n",
    "- Ученик 390 имеет 2 промаха (failures), без поддержки школы, но платит за доп мат занятия, родители в разводе, много гуляет (goout=4), оценка по мат-ке меньше среднего (45 баллов) и то за счет доп занятий скорее всего, поэтому заменим его кол-во пропусков на 21. Скорее всего допустили ошибку в указании данных (лишняя двойка в конце), при этому 21 это больше среднего значения, но не намного (как максимальное 75 из остальных имеющихся) - делаем таким образом сглаживание."
   ]
  },
  {
   "cell_type": "code",
   "execution_count": null,
   "metadata": {},
   "outputs": [],
   "source": [
    "stud_math.absences = stud_math.absences.replace(385, 0)\n",
    "stud_math.absences = stud_math.absences.replace(212, 21)"
   ]
  },
  {
   "cell_type": "code",
   "execution_count": null,
   "metadata": {},
   "outputs": [],
   "source": [
    "# Проверяем изменения.\n",
    "stud_math.absences.plot(kind='hist', grid=True, bins=20, title='Absences')\n",
    "stud_math.absences.describe()"
   ]
  },
  {
   "cell_type": "markdown",
   "metadata": {},
   "source": [
    "Посмотрим строки, где в столбце absence стоят пропуски:"
   ]
  },
  {
   "cell_type": "code",
   "execution_count": null,
   "metadata": {},
   "outputs": [],
   "source": [
    "stud_math.iloc[np.where(pd.isnull(stud_math.absences))][['age', 'reason', 'traveltime', 'studytime', 'failures',\n",
    "                                                        'schoolsup', 'paid', 'activities', 'higher', \n",
    "                                                        'romantic', 'famrel', 'freetime', 'goout',\n",
    "                                                        'Medu', 'Fedu', 'Pstatus', 'health', 'score']]"
   ]
  },
  {
   "cell_type": "markdown",
   "metadata": {},
   "source": [
    "Сравним показатели этих учеников:\n",
    "\n",
    "- Ученик 150 сразу бросается в глаза с нулевой оценкой по мат-ке: он мало учится, много гуляет, имеет 3 промаха, без поддержки, не хочет иметь высшее образование, имеет романтичесике отношения, родители с начальным образованием - по всем показателям он ярый прогульщик. Заменим его absence на max=75 и посмотрим на учеников с самыми большими пропусками."
   ]
  },
  {
   "cell_type": "code",
   "execution_count": null,
   "metadata": {},
   "outputs": [],
   "source": [
    "stud_math.loc[150, 'absences'] = 75\n",
    "stud_math.loc[stud_math.absences == 75][['age', 'reason', 'traveltime', 'studytime', 'failures',\n",
    "                                         'schoolsup', 'paid', 'activities', 'higher',\n",
    "                                         'romantic', 'famrel', 'freetime', 'goout',\n",
    "                                         'Medu', 'Fedu', 'Pstatus', 'health', 'score']]"
   ]
  },
  {
   "cell_type": "markdown",
   "metadata": {},
   "source": [
    "Можем видеть сходства: во времени на образование, отсутствие доп курсов и тп. Оставляем.\n",
    "\n",
    "Следующий ученик, который бросается в глаза это тот, у кого не проставлена оценка за экзамен по мат-ке.\n",
    "\n",
    "- Ученик 270: судя по тому,что он не особо много тратит времени на учебу, ходит гулять, имеет хорошее здоровье и activities, есть промахи (2), скорее всего он физически активен и возможно попадал в драки. Родители окончили школу, но хотят, чтобы ребенок все-таки поступил в университет (уже 19 лет, возможно оставался на 2й год), оплатили курсы по мат-ке. Так что score у него скорее всего ниже среднего, а absences выше среднего - заменим на 75%квартиль."
   ]
  },
  {
   "cell_type": "code",
   "execution_count": null,
   "metadata": {},
   "outputs": [],
   "source": [
    "stud_math.loc[270, 'absences'] = stud_math.absences.quantile(0.75)"
   ]
  },
  {
   "cell_type": "markdown",
   "metadata": {},
   "source": [
    "Посмотрим на пропуски занятий тех учеников, у кого оценка меньше средней, но больше 40 (в нашей выборке это минимальное значение score):"
   ]
  },
  {
   "cell_type": "code",
   "execution_count": null,
   "metadata": {},
   "outputs": [],
   "source": [
    "stud_math.loc[stud_math.score.between(40, stud_math.score.mean())]['absences'].value_counts()"
   ]
  },
  {
   "cell_type": "code",
   "execution_count": null,
   "metadata": {},
   "outputs": [],
   "source": [
    "stud_math.loc[stud_math.score.between(\n",
    "    40, stud_math.score.mean())]['absences'].hist()\n",
    "stud_math.loc[stud_math.score.between(\n",
    "    40, stud_math.score.mean())]['absences'].describe()"
   ]
  },
  {
   "cell_type": "markdown",
   "metadata": {},
   "source": [
    "Среднее значение пропусков 7.66, округляем и заменяем на 8 (строки 24, 172, 352):"
   ]
  },
  {
   "cell_type": "code",
   "execution_count": null,
   "metadata": {},
   "outputs": [],
   "source": [
    "stud_math.loc[[24, 172, 352], 'absences'] = 8"
   ]
  },
  {
   "cell_type": "markdown",
   "metadata": {},
   "source": [
    "Теперь посмотрим на оставшихся учеников, у кого score выше среднего и до 90 (в нашей выборке это максимальное значени). Посмотрим на их пропуски занятий:"
   ]
  },
  {
   "cell_type": "code",
   "execution_count": null,
   "metadata": {},
   "outputs": [],
   "source": [
    "stud_math.loc[stud_math.score.between(\n",
    "    stud_math.score.mean(), 90)]['absences'].value_counts()"
   ]
  },
  {
   "cell_type": "code",
   "execution_count": null,
   "metadata": {},
   "outputs": [],
   "source": [
    "stud_math.loc[stud_math.score.between(\n",
    "    stud_math.score.mean(), 90)]['absences'].hist()\n",
    "stud_math.loc[stud_math.score.between(\n",
    "    stud_math.score.mean(), 90)]['absences'].describe()"
   ]
  },
  {
   "cell_type": "markdown",
   "metadata": {},
   "source": [
    "Среднее 5.36, но в этом случае более хороших оценок по математике можно взять и медиану - 4 пропуска. Заменим наши оставшиеся пустые значения на медиану:"
   ]
  },
  {
   "cell_type": "code",
   "execution_count": null,
   "metadata": {},
   "outputs": [],
   "source": [
    "stud_math.loc[[101, 120, 129, 215, 227, 254, 265], 'absences'] = stud_math.absences.median()"
   ]
  },
  {
   "cell_type": "markdown",
   "metadata": {},
   "source": [
    "Проверим не пропустили ли мы какую-либо замену, не остались ли пустые значения в столбце absence:"
   ]
  },
  {
   "cell_type": "code",
   "execution_count": null,
   "metadata": {},
   "outputs": [],
   "source": [
    "stud_math.iloc[np.where(pd.isnull(stud_math.absences))]"
   ]
  },
  {
   "cell_type": "markdown",
   "metadata": {},
   "source": [
    "Пустых значений не осталось, посмотрим теперь на итоговые исправленные данные absence:"
   ]
  },
  {
   "cell_type": "code",
   "execution_count": null,
   "metadata": {},
   "outputs": [],
   "source": [
    "stud_math.absences.plot(kind='hist', grid=True, bins=20, title='Absences')\n",
    "stud_math.absences.describe()"
   ]
  },
  {
   "cell_type": "markdown",
   "metadata": {},
   "source": [
    "#### Score"
   ]
  },
  {
   "cell_type": "code",
   "execution_count": null,
   "metadata": {},
   "outputs": [],
   "source": [
    "get_describe('score')"
   ]
  },
  {
   "cell_type": "code",
   "execution_count": null,
   "metadata": {},
   "outputs": [],
   "source": [
    "stud_math.score.plot(kind='hist', grid=True, title='Score')"
   ]
  },
  {
   "cell_type": "markdown",
   "metadata": {},
   "source": [
    "Score - оценка за экзамен по математике по 100 бальной шкале (как видим из значений). Всего уникальных оценок 18. Пустых значений 6. Самая распространенная это 50 баллов. Смущает, что достаточно много оценок равных 0 - 37 человек, либо это ученики не пришедшие на экзамен вовсе или сдавшие пустой бланк (по разным причинам: от здоровья, что-то случилось в семье, просто не хотят сдавать или поступать в высшее уч. заведение), либо не решившие ни одного задания. На этих учеников можно посмотреть отдельно - они кажутся выбросами, проверим это функцией нахождения выбросов."
   ]
  },
  {
   "cell_type": "code",
   "execution_count": null,
   "metadata": {},
   "outputs": [],
   "source": [
    "get_outliers('score')"
   ]
  },
  {
   "cell_type": "markdown",
   "metadata": {},
   "source": [
    "Выбросов не оказалось, значит оставляем все значения как есть. Давайте посмотрим на датафрейм нулевых оценок:"
   ]
  },
  {
   "cell_type": "code",
   "execution_count": null,
   "metadata": {},
   "outputs": [],
   "source": [
    "stud_math.loc[stud_math.score == 0][['reason', 'traveltime', 'studytime', 'failures',\n",
    "                                     'schoolsup', 'paid', 'activities', 'higher',\n",
    "                                     'romantic', 'famrel', 'freetime', 'goout',\n",
    "                                     'Medu', 'Fedu', 'health', 'absences', 'score']][:15]"
   ]
  },
  {
   "cell_type": "markdown",
   "metadata": {},
   "source": [
    "У всех учеников с нулевыми оценками число прогулов уроков тоже равно 0 (за исключением одного значения, которое мы заменили выше на 75). Это кажется не логичным. Когда заполним пропуски по остальным столбцам, будем смотреть зависимости, имея в виду, что у нас есть 37 таких строчек."
   ]
  },
  {
   "cell_type": "markdown",
   "metadata": {},
   "source": [
    "Теперь посмотрим на пустые значения score:"
   ]
  },
  {
   "cell_type": "code",
   "execution_count": null,
   "metadata": {},
   "outputs": [],
   "source": [
    "stud_math.iloc[np.where(pd.isnull(stud_math.score))][['reason', 'traveltime', 'studytime', 'failures',\n",
    "                                                      'schoolsup', 'paid', 'activities', 'higher',\n",
    "                                                      'romantic', 'famrel', 'freetime', 'goout',\n",
    "                                                      'Medu', 'Fedu', 'Pstatus', 'health', 'absences']]"
   ]
  },
  {
   "cell_type": "markdown",
   "metadata": {},
   "source": [
    "Исходя из данных этой выборки, ничего особо не выделяется. Но проверим влияет ли failure на оценку по математике с помощью гистограммы распределения, возьмем failure от 1 до 3."
   ]
  },
  {
   "cell_type": "code",
   "execution_count": null,
   "metadata": {},
   "outputs": [],
   "source": [
    "stud_math.loc[stud_math.failures.between(1,3)].score.hist()"
   ]
  },
  {
   "cell_type": "markdown",
   "metadata": {},
   "source": [
    "Критерий failure имеет такое же распределение как и общее score, где среднее~медиане одинаково. Значит заполним все непустые значения score значениями медианы:"
   ]
  },
  {
   "cell_type": "code",
   "execution_count": null,
   "metadata": {},
   "outputs": [],
   "source": [
    "stud_math.score.fillna(stud_math.score.median(), inplace=True)"
   ]
  },
  {
   "cell_type": "markdown",
   "metadata": {},
   "source": [
    "Проверим, остались ли пустые значенися в score:"
   ]
  },
  {
   "cell_type": "code",
   "execution_count": null,
   "metadata": {},
   "outputs": [],
   "source": [
    "stud_math.iloc[np.where(pd.isnull(stud_math.score))]"
   ]
  },
  {
   "cell_type": "markdown",
   "metadata": {},
   "source": [
    "Посмотрим на итоговые данные в столбце score:"
   ]
  },
  {
   "cell_type": "code",
   "execution_count": null,
   "metadata": {},
   "outputs": [],
   "source": [
    "stud_math.score.plot(kind='hist', grid=True, bins=20, title='Score')\n",
    "stud_math.score.describe()"
   ]
  },
  {
   "cell_type": "markdown",
   "metadata": {},
   "source": [
    "#### Studytime, granular"
   ]
  },
  {
   "cell_type": "code",
   "execution_count": null,
   "metadata": {},
   "outputs": [],
   "source": [
    "get_describe('studytime, granular')"
   ]
  },
  {
   "cell_type": "code",
   "execution_count": null,
   "metadata": {},
   "outputs": [],
   "source": [
    "stud_math['studytime, granular'].plot(\n",
    "    kind='hist', grid=True, title='studytime, granular')"
   ]
  },
  {
   "cell_type": "markdown",
   "metadata": {},
   "source": [
    "Посмотрим на таблицу с двумя столбцами вместе studytime и studytime, granular. Возможно они зависимы."
   ]
  },
  {
   "cell_type": "code",
   "execution_count": null,
   "metadata": {},
   "outputs": [],
   "source": [
    "stud_math[['studytime, granular', 'studytime']].head()"
   ]
  },
  {
   "cell_type": "markdown",
   "metadata": {},
   "source": [
    "Как видно, столбец studytime, granular есть столбец studytime умноженный на -3. Проверим корреляцию:"
   ]
  },
  {
   "cell_type": "code",
   "execution_count": null,
   "metadata": {},
   "outputs": [],
   "source": [
    "stud_math[['studytime, granular', 'studytime']].corr()"
   ]
  },
  {
   "cell_type": "markdown",
   "metadata": {},
   "source": [
    "Корреляция = -1, поэтому можем смело убирать столбец из датафрейма:"
   ]
  },
  {
   "cell_type": "code",
   "execution_count": null,
   "metadata": {},
   "outputs": [],
   "source": [
    "stud_math = stud_math.drop(columns='studytime, granular')"
   ]
  },
  {
   "cell_type": "markdown",
   "metadata": {},
   "source": [
    "### Корреляция между числовыми признаками"
   ]
  },
  {
   "cell_type": "code",
   "execution_count": null,
   "metadata": {},
   "outputs": [],
   "source": [
    "# Make new dataframe only with quantitative columns.\n",
    "stud_math_num = stud_math[['age', 'absences', 'score']]\n",
    "sns.pairplot(stud_math_num)"
   ]
  },
  {
   "cell_type": "code",
   "execution_count": null,
   "metadata": {},
   "outputs": [],
   "source": [
    "stud_math_num.corr()"
   ]
  },
  {
   "cell_type": "markdown",
   "metadata": {},
   "source": [
    "Построим тепловую карту распределения:"
   ]
  },
  {
   "cell_type": "code",
   "execution_count": null,
   "metadata": {},
   "outputs": [],
   "source": [
    "sns.heatmap(stud_math_num.corr(), annot=True, cmap='coolwarm')"
   ]
  },
  {
   "cell_type": "markdown",
   "metadata": {},
   "source": [
    "#### Выводы: \n",
    "\n",
    "Mы видим слабую корреляцию между количественными переменными. Можно наблюдать только, что пропусков занятий становится чуть больше с возрастом (появляются романтические отношения или иные цели в жизни). Пропуски занятий же практически не зависят от оценки, но судя по графикам все равно есть значения, где пропуски больше, тем оценка ниже.\n",
    "\n",
    "Посмотрим теперь корреляцию, если бы мы убрали оценки равные 0 из датафрейма."
   ]
  },
  {
   "cell_type": "code",
   "execution_count": null,
   "metadata": {},
   "outputs": [],
   "source": [
    "score_notnull = stud_math.loc[stud_math.score != 0]\n",
    "score_notnull_num = score_notnull[['age', 'absences', 'score']]\n",
    "score_notnull_num.corr()"
   ]
  },
  {
   "cell_type": "markdown",
   "metadata": {},
   "source": [
    "Теперь корреляция стала более явной у absences и score = -0.22: чем больше пропусков, тем ниже оценка. Это больше похоже на правду."
   ]
  },
  {
   "cell_type": "markdown",
   "metadata": {},
   "source": [
    "### Номинативные переменные"
   ]
  },
  {
   "cell_type": "markdown",
   "metadata": {},
   "source": [
    "#### School"
   ]
  },
  {
   "cell_type": "code",
   "execution_count": null,
   "metadata": {},
   "outputs": [],
   "source": [
    "get_describe('school')"
   ]
  },
  {
   "cell_type": "markdown",
   "metadata": {},
   "source": [
    "#### Sex"
   ]
  },
  {
   "cell_type": "code",
   "execution_count": null,
   "metadata": {},
   "outputs": [],
   "source": [
    "get_describe('sex')"
   ]
  },
  {
   "cell_type": "markdown",
   "metadata": {},
   "source": [
    "#### Address"
   ]
  },
  {
   "cell_type": "code",
   "execution_count": null,
   "metadata": {},
   "outputs": [],
   "source": [
    "get_describe('address')"
   ]
  },
  {
   "cell_type": "markdown",
   "metadata": {},
   "source": [
    "Проверим взаимосвязь address с другими параметрами:"
   ]
  },
  {
   "cell_type": "code",
   "execution_count": null,
   "metadata": {},
   "outputs": [],
   "source": [
    "get_relation(stud_math, 'address', 0)"
   ]
  },
  {
   "cell_type": "markdown",
   "metadata": {},
   "source": [
    "Самая проглядывающая зависимость c traveltime. Давайте заменим на U, где traveltime=1,2, на R, где traveltime=3,4."
   ]
  },
  {
   "cell_type": "code",
   "execution_count": null,
   "metadata": {},
   "outputs": [],
   "source": [
    "# Create dataframe with nan address and traveltime.\n",
    "df_ad = stud_math.iloc[np.where(pd.isnull(stud_math.address))][[\n",
    "    'address', 'traveltime']]\n",
    "df_ad_keys = df_ad['address'].keys()  # Extract indexes.\n",
    "display(df_ad_keys)\n",
    "\n",
    "travel_val = df_ad['traveltime'].values\n",
    "l = len(df_ad_keys)\n",
    "\n",
    "for i in range(0, l):\n",
    "    if (travel_val[i] == 1) | (travel_val[i] == 2):\n",
    "        stud_math.loc[df_ad_keys[i], 'address'] = 'U'\n",
    "    elif (travel_val[i] == 3) | (travel_val[i] == 4):\n",
    "        stud_math.loc[df_ad_keys[i], 'address'] = 'R'"
   ]
  },
  {
   "cell_type": "code",
   "execution_count": null,
   "metadata": {},
   "outputs": [],
   "source": [
    "# Checking nan address values.\n",
    "stud_math.iloc[np.where(pd.isnull(stud_math.address))][['school', 'reason', 'traveltime', 'studytime',\n",
    "                                                        'schoolsup', 'paid', 'activities', 'higher',\n",
    "                                                        'romantic', 'famrel', 'freetime', 'Medu',\n",
    "                                                        'Fedu', 'Mjob', 'health', 'absences', 'score']]"
   ]
  },
  {
   "cell_type": "markdown",
   "metadata": {},
   "source": [
    "Мы видим, что Medu = 4, тогда address = U. У третьего студента Medu=2, тоже U. Заменим:"
   ]
  },
  {
   "cell_type": "code",
   "execution_count": null,
   "metadata": {},
   "outputs": [],
   "source": [
    "stud_math.address.fillna('U', inplace=True)"
   ]
  },
  {
   "cell_type": "markdown",
   "metadata": {},
   "source": [
    "#### Famsize - family size"
   ]
  },
  {
   "cell_type": "code",
   "execution_count": null,
   "metadata": {},
   "outputs": [],
   "source": [
    "get_describe('famsize')"
   ]
  },
  {
   "cell_type": "markdown",
   "metadata": {},
   "source": [
    "Посмотрим, с какими столбцами есть взаимосвязь у famsize с помощью функции из предобработки:"
   ]
  },
  {
   "cell_type": "code",
   "execution_count": null,
   "metadata": {},
   "outputs": [],
   "source": [
    "get_relation(stud_math, 'famsize', 0)"
   ]
  },
  {
   "cell_type": "markdown",
   "metadata": {},
   "source": [
    "Как мы видим из таблиц связей, в каждом столбце модой является GT3. Заполним пропуски этим значением:"
   ]
  },
  {
   "cell_type": "code",
   "execution_count": null,
   "metadata": {},
   "outputs": [],
   "source": [
    "stud_math.famsize.fillna('GT3', inplace=True)"
   ]
  },
  {
   "cell_type": "markdown",
   "metadata": {},
   "source": [
    "#### Medu, Fedu - mother and father education"
   ]
  },
  {
   "cell_type": "code",
   "execution_count": null,
   "metadata": {},
   "outputs": [],
   "source": [
    "get_describe('Medu')\n",
    "get_describe('Fedu')"
   ]
  },
  {
   "cell_type": "markdown",
   "metadata": {},
   "source": [
    "Значение 40 в Fedu явно ошибка, должно быть 4, исправим:"
   ]
  },
  {
   "cell_type": "code",
   "execution_count": null,
   "metadata": {},
   "outputs": [],
   "source": [
    "stud_math.Fedu = stud_math.Fedu.replace(40, 4)"
   ]
  },
  {
   "cell_type": "markdown",
   "metadata": {},
   "source": [
    "Посмотрим на пустые значения в образовании матери и отца:"
   ]
  },
  {
   "cell_type": "code",
   "execution_count": null,
   "metadata": {},
   "outputs": [],
   "source": [
    "# Nan value in Mother education.\n",
    "stud_math.iloc[np.where(pd.isnull(stud_math.Medu))][['reason', 'traveltime', 'studytime', 'failures',\n",
    "                                                     'schoolsup', 'paid', 'activities', 'higher',\n",
    "                                                     'romantic', 'famrel', 'freetime', 'goout',\n",
    "                                                     'Fedu', 'nursery', 'health', 'absences', 'score']]"
   ]
  },
  {
   "cell_type": "code",
   "execution_count": null,
   "metadata": {},
   "outputs": [],
   "source": [
    "# Nan value in Father education.\n",
    "stud_math.iloc[np.where(pd.isnull(stud_math.Fedu))][['reason', 'traveltime', 'studytime', 'failures',\n",
    "                                                     'schoolsup', 'paid', 'activities', 'higher',\n",
    "                                                     'romantic', 'famrel', 'freetime', 'goout',\n",
    "                                                     'Medu', 'nursery', 'health', 'absences', 'score']][:10]"
   ]
  },
  {
   "cell_type": "markdown",
   "metadata": {},
   "source": [
    "Если есть зависимость между образованиями родителей, возможно нам удастся заполнить пропуски. Проверим, есть ли зависимости у столбцов образований родителей с другими, построим на примере Medu:"
   ]
  },
  {
   "cell_type": "code",
   "execution_count": null,
   "metadata": {},
   "outputs": [],
   "source": [
    "get_relation(stud_math, 'Medu', 0)"
   ]
  },
  {
   "cell_type": "markdown",
   "metadata": {},
   "source": [
    "Вышло очень много зависимостей, которые нам понадобятся для дальнейших заполнений пропусков других категориалных столбцов. Как мы и надеялись, образование родителей схожи. Эта таблица сводная таблица нам поможет в заполнении пропусков. Сначала заполним образование матери (там меньше всего пропусков), посмотрим на эту выборку еще раз:"
   ]
  },
  {
   "cell_type": "code",
   "execution_count": null,
   "metadata": {},
   "outputs": [],
   "source": [
    "stud_math.iloc[np.where(pd.isnull(stud_math.Medu))][['reason', 'traveltime', 'studytime', 'failures',\n",
    "                                                     'schoolsup', 'paid', 'activities', 'higher',\n",
    "                                                     'romantic', 'famrel', 'freetime', 'goout',\n",
    "                                                     'Fedu', 'nursery', 'health', 'absences', 'score']]"
   ]
  },
  {
   "cell_type": "markdown",
   "metadata": {},
   "source": [
    "Итак, когда образование отца:\n",
    "- равно 1, самое частое образование матери по сводной таблице это тоже 1 (36 значений)\n",
    "- равно 3, самое частое значение Medu = 4 (39 значений)\n",
    "- равно 2, то самое частое значение Medu = 2 (47 значений)\n",
    "\n",
    "Таким образом заполним эти пропущенне значения Medu модами по значениям Fedu:"
   ]
  },
  {
   "cell_type": "code",
   "execution_count": null,
   "metadata": {},
   "outputs": [],
   "source": [
    "stud_math.loc[92, 'Medu'] = 1\n",
    "stud_math.loc[193, 'Medu'] = 4\n",
    "stud_math.loc[239, 'Medu'] = 2"
   ]
  },
  {
   "cell_type": "markdown",
   "metadata": {},
   "source": [
    "Теперь аналогичным способом заменим пропуски Fedu по моде значений Medu (по нашей сводной таблице полученной выше). Для этого нам потребуются индексы и значения Medu."
   ]
  },
  {
   "cell_type": "code",
   "execution_count": null,
   "metadata": {},
   "outputs": [],
   "source": [
    "edu_keys = stud_math.iloc[np.where(pd.isnull(stud_math.Fedu))]['Medu'].keys()\n",
    "medu_values = stud_math.iloc[np.where(\n",
    "    pd.isnull(stud_math.Fedu))]['Medu'].values\n",
    "l = len(edu_keys)\n",
    "\n",
    "for i in range(0, l):\n",
    "    if medu_values[i] == 1:\n",
    "        stud_math.loc[edu_keys[i], 'Fedu'] = 1\n",
    "    elif medu_values[i] == 2:\n",
    "        stud_math.loc[edu_keys[i], 'Fedu'] = 2\n",
    "    elif medu_values[i] == 3:\n",
    "        stud_math.loc[edu_keys[i], 'Fedu'] = 3\n",
    "    elif medu_values[i] == 4:\n",
    "        stud_math.loc[edu_keys[i], 'Fedu'] = 4"
   ]
  },
  {
   "cell_type": "markdown",
   "metadata": {},
   "source": [
    "Проверим остались ли пустые значения Fedu:"
   ]
  },
  {
   "cell_type": "code",
   "execution_count": null,
   "metadata": {},
   "outputs": [],
   "source": [
    "stud_math.iloc[np.where(pd.isnull(stud_math.Fedu))][['reason', 'traveltime', 'studytime', 'failures',\n",
    "                                                     'schoolsup', 'paid', 'activities', 'higher',\n",
    "                                                     'romantic', 'famrel', 'freetime', 'goout',\n",
    "                                                     'Medu', 'nursery', 'health', 'absences', 'score']]"
   ]
  },
  {
   "cell_type": "markdown",
   "metadata": {},
   "source": [
    "#### Mjob, Fjob - mother and father job"
   ]
  },
  {
   "cell_type": "code",
   "execution_count": null,
   "metadata": {},
   "outputs": [],
   "source": [
    "get_describe('Mjob')\n",
    "get_describe('Fjob')"
   ]
  },
  {
   "cell_type": "markdown",
   "metadata": {},
   "source": [
    "Посмотрим, от каких столбцов зависит работа родителей на примере Mjob:"
   ]
  },
  {
   "cell_type": "code",
   "execution_count": null,
   "metadata": {},
   "outputs": [],
   "source": [
    "get_relation(stud_math, 'Mjob', 0)"
   ]
  },
  {
   "cell_type": "markdown",
   "metadata": {},
   "source": [
    "Возьмем уже заполненные столбцы и самые логичные для связи - это Medu и Fedu. Посмотрим на эти две сводбные таблицы:"
   ]
  },
  {
   "cell_type": "code",
   "execution_count": null,
   "metadata": {},
   "outputs": [],
   "source": [
    "# Make a pivot table.\n",
    "pivot_mj_me = stud_math.pivot_table(values=['score'], index=['Mjob'], columns=['Medu'],\n",
    "                                    aggfunc='count', fill_value=0)\n",
    "display(pivot_mj_me)\n",
    "pivot_mj_fe = stud_math.pivot_table(values=['score'], index=['Mjob'], columns=['Fedu'],\n",
    "                                    aggfunc='count', fill_value=0)\n",
    "display(pivot_mj_fe)"
   ]
  },
  {
   "cell_type": "markdown",
   "metadata": {},
   "source": [
    "Посмотрим, какие значения Medu, Fedu будут в выборке пустых значений Mjob:"
   ]
  },
  {
   "cell_type": "code",
   "execution_count": null,
   "metadata": {},
   "outputs": [],
   "source": [
    "display(stud_math.iloc[np.where(pd.isnull(stud_math.Mjob))]\n",
    "        ['Medu'].value_counts())\n",
    "display(stud_math.iloc[np.where(pd.isnull(stud_math.Mjob))]\n",
    "        ['Fedu'].value_counts())"
   ]
  },
  {
   "cell_type": "markdown",
   "metadata": {},
   "source": [
    "Нулевых образований нет. По первой таблице можно сделать вывод, что при Medu=2 мода=46 - other, при Medu=4 мода=52 - teacher. Не очень ясно, какие варианты выбрать для Medu=1 (at_home или other) и Medu=3 (other или services). В этом случае посмотрим на вторую таблицу c Fedu.\n",
    "\n",
    "- Medu=1: Fedu=1-4, то other (38-other > 22-at_home и тд)\n",
    "\n",
    "- Medu=3: Fedu=1-3, то other, если Fedu=4, то service (27-services > 16-other).\n",
    "\n",
    "В нашей выборке пропусков Mjob надо найти все пары (Medu, Fedu), где Medu = 1 и 3, и заполнить пропуски по вышеуказанному алгоритму."
   ]
  },
  {
   "cell_type": "code",
   "execution_count": null,
   "metadata": {},
   "outputs": [],
   "source": [
    "# Create dataframe with nan Mjob and two columns Medu, Fedu.\n",
    "df_mjob = stud_math.iloc[np.where(pd.isnull(stud_math.Mjob))][[\n",
    "    'Mjob', 'Fedu', 'Medu']]\n",
    "df_mjob_keys = df_mjob['Mjob'].keys()  # Extract indexes.\n",
    "display(df_mjob_keys)\n",
    "\n",
    "Medu_val = df_mjob['Medu'].values\n",
    "Fedu_val = df_mjob['Fedu'].values\n",
    "l = len(df_mjob_keys)\n",
    "\n",
    "for i in range(0, l):\n",
    "    if (Medu_val[i] == 1) | (Medu_val[i] == 2):\n",
    "        stud_math.loc[df_mjob_keys[i], 'Mjob'] = 'other'\n",
    "    elif Medu_val[i] == 4:\n",
    "        stud_math.loc[df_mjob_keys[i], 'Mjob'] = 'teacher'\n",
    "    elif Medu_val[i] == 3:\n",
    "        if Fedu_val[i] in [1, 2, 3]:\n",
    "            stud_math.loc[df_mjob_keys[i], 'Mjob'] = 'other'\n",
    "        else:\n",
    "            stud_math.loc[df_mjob_keys[i], 'Mjob'] = 'services'"
   ]
  },
  {
   "cell_type": "markdown",
   "metadata": {},
   "source": [
    "Теперь убедимся, что у Fjob тоже есть зависимости от Medu, Fedu:"
   ]
  },
  {
   "cell_type": "code",
   "execution_count": null,
   "metadata": {},
   "outputs": [],
   "source": [
    "get_relation(stud_math, 'Fjob', 0)"
   ]
  },
  {
   "cell_type": "markdown",
   "metadata": {},
   "source": [
    "Аналогично выведем сводные таблицы взаимосвязи Fjob с Medu, Fedu:"
   ]
  },
  {
   "cell_type": "code",
   "execution_count": null,
   "metadata": {},
   "outputs": [],
   "source": [
    "# Make a pivot table.\n",
    "pivot_fj_fe = stud_math.pivot_table(values=['score'], index=['Fjob'], columns=['Fedu'],\n",
    "                                    aggfunc='count', fill_value=0)\n",
    "display(pivot_fj_fe)\n",
    "pivot_fj_me = stud_math.pivot_table(values=['score'], index=['Fjob'], columns=['Medu'],\n",
    "                                    aggfunc='count', fill_value=0)\n",
    "display(pivot_fj_me)"
   ]
  },
  {
   "cell_type": "markdown",
   "metadata": {},
   "source": [
    "Смотря на первую таблицы мы видим, что везде модой является строка other, но при Fedu=4 все-таки есть еще и teacher. Если взять вспомогательную таблицу с Medu, то мы видим, что тут other является безоговорочной модой, поэтому мы примем Fjob везде = other. Сделаем замену:"
   ]
  },
  {
   "cell_type": "code",
   "execution_count": null,
   "metadata": {},
   "outputs": [],
   "source": [
    "stud_math.Fjob.fillna('other', inplace=True)"
   ]
  },
  {
   "cell_type": "markdown",
   "metadata": {},
   "source": [
    "#### Famrel - family relation"
   ]
  },
  {
   "cell_type": "code",
   "execution_count": null,
   "metadata": {},
   "outputs": [],
   "source": [
    "get_describe('famrel')"
   ]
  },
  {
   "cell_type": "markdown",
   "metadata": {},
   "source": [
    "Исходя из описания признака значение -1 являтеся ошибочным, заменим его на 1:"
   ]
  },
  {
   "cell_type": "code",
   "execution_count": null,
   "metadata": {},
   "outputs": [],
   "source": [
    "stud_math.famrel = stud_math.famrel.replace(-1, 1)"
   ]
  },
  {
   "cell_type": "markdown",
   "metadata": {},
   "source": [
    "Теперь проверим зависимости столбца famrel:"
   ]
  },
  {
   "cell_type": "code",
   "execution_count": null,
   "metadata": {},
   "outputs": [],
   "source": [
    "get_relation(stud_math, 'famrel', 0)"
   ]
  },
  {
   "cell_type": "markdown",
   "metadata": {},
   "source": [
    "Зависимостей нет, так как мода 4.0 сильно выделяется от остальных значений и равна среднему, заменим пропуски на 4:"
   ]
  },
  {
   "cell_type": "code",
   "execution_count": null,
   "metadata": {},
   "outputs": [],
   "source": [
    "stud_math.famrel.fillna(4, inplace=True)"
   ]
  },
  {
   "cell_type": "markdown",
   "metadata": {},
   "source": [
    "#### Pstatus - parents status"
   ]
  },
  {
   "cell_type": "code",
   "execution_count": null,
   "metadata": {},
   "outputs": [],
   "source": [
    "get_describe('Pstatus')"
   ]
  },
  {
   "cell_type": "markdown",
   "metadata": {},
   "source": [
    "Проверим зависимости столбца Pstatus с остальными в датафрейме:"
   ]
  },
  {
   "cell_type": "code",
   "execution_count": null,
   "metadata": {},
   "outputs": [],
   "source": [
    "get_relation(stud_math, 'Pstatus', 0)"
   ]
  },
  {
   "cell_type": "markdown",
   "metadata": {},
   "source": [
    "Только с Medu статус проживания родителей имеет связь, но как мы видим при любом значении Medu модой является значение T. Таким образом заменим пропуски на Т:"
   ]
  },
  {
   "cell_type": "code",
   "execution_count": null,
   "metadata": {},
   "outputs": [],
   "source": [
    "stud_math['Pstatus'].fillna('T', inplace=True)"
   ]
  },
  {
   "cell_type": "markdown",
   "metadata": {},
   "source": [
    "#### Reason"
   ]
  },
  {
   "cell_type": "code",
   "execution_count": null,
   "metadata": {},
   "outputs": [],
   "source": [
    "get_describe('reason')"
   ]
  },
  {
   "cell_type": "markdown",
   "metadata": {},
   "source": [
    "Посмотрим, есть ли зависимости причины выбора школы от каких-либо других показателей:"
   ]
  },
  {
   "cell_type": "code",
   "execution_count": null,
   "metadata": {},
   "outputs": [],
   "source": [
    "get_relation(stud_math, 'reason', 0)"
   ]
  },
  {
   "cell_type": "markdown",
   "metadata": {},
   "source": [
    "Получили достаточно интересные зависимости, но ни одной из них не хватит заполнить разом все пропуски. Самая подходящая кажется studytime: \n",
    "\n",
    "- если studytime=1, то выбираем course\n",
    "- если studytime=3, то выбираем course\n",
    "- если studytime=4, то выбираем reputation\n",
    "- если studytime=2, то нам нужно выбрать из трех значений course, home, reputation (они имют примерн одинаковые значения по сводной таблице)\n",
    "\n",
    "Тепер давайте посмотрим на выборку пустых значений reason, где studytime=2:"
   ]
  },
  {
   "cell_type": "code",
   "execution_count": null,
   "metadata": {},
   "outputs": [],
   "source": [
    "stud_math.iloc[np.where(pd.isnull(stud_math.reason))][['school', 'traveltime', 'studytime', 'failures',\n",
    "                                                       'schoolsup', 'paid', 'activities', 'higher',\n",
    "                                                       'romantic', 'famrel', 'freetime', 'Mjob',\n",
    "                                                       'Medu', 'Fedu', 'health', 'absences', 'score']].loc[\n",
    "    stud_math.studytime == 2\n",
    "]"
   ]
  },
  {
   "cell_type": "markdown",
   "metadata": {},
   "source": [
    "При studytime=2 смотрим на Mjob, если:\n",
    "\n",
    "- Mjob=at_home, то выбираем course,\n",
    "- Mjob=other, то выбираем home,\n",
    "- Mjob=services, то выбираем course."
   ]
  },
  {
   "cell_type": "code",
   "execution_count": null,
   "metadata": {},
   "outputs": [],
   "source": [
    "# Create dataframe with nan reason and two columns: studytime and Mjob.\n",
    "df_reason = stud_math.iloc[np.where(pd.isnull(stud_math.reason))][[\n",
    "    'reason', 'studytime', 'Mjob']]\n",
    "df_reason_keys = df_reason['reason'].keys()  # Extract indexes.\n",
    "display(df_reason_keys)\n",
    "\n",
    "study_val = df_reason['studytime'].values\n",
    "Mjob_val = df_reason['Mjob'].values\n",
    "l = len(df_reason_keys)\n",
    "\n",
    "for i in range(0, l):\n",
    "    if (study_val[i] == 1) | (study_val[i] == 3):\n",
    "        stud_math.loc[df_reason_keys[i], 'reason'] = 'course'\n",
    "    elif study_val[i] == 4:\n",
    "        stud_math.loc[df_reason_keys[i], 'reason'] = 'reputation'\n",
    "    elif study_val[i] == 2:\n",
    "        if Mjob_val[i] == 'other':\n",
    "            stud_math.loc[df_reason_keys[i], 'reason'] = 'home'\n",
    "        else:\n",
    "            stud_math.loc[df_reason_keys[i], 'reason'] = 'course'"
   ]
  },
  {
   "cell_type": "markdown",
   "metadata": {},
   "source": [
    "Проверим, остались ли пропуски в reason:"
   ]
  },
  {
   "cell_type": "code",
   "execution_count": null,
   "metadata": {},
   "outputs": [],
   "source": [
    "stud_math.iloc[np.where(pd.isnull(stud_math.reason))][['school', 'traveltime', 'studytime', 'failures',\n",
    "                                                       'schoolsup', 'paid', 'activities', 'higher',\n",
    "                                                       'romantic', 'famrel', 'freetime', 'Mjob',\n",
    "                                                       'Medu', 'Fedu', 'health', 'absences', 'score']]"
   ]
  },
  {
   "cell_type": "markdown",
   "metadata": {},
   "source": [
    "Остался один пропуск из-за того, что studytime не заполнен. Но мы видим, что Mjob=at_home, тогда заменим это пустое значение reason на course:"
   ]
  },
  {
   "cell_type": "code",
   "execution_count": null,
   "metadata": {},
   "outputs": [],
   "source": [
    "stud_math['reason'].fillna('course', inplace=True)"
   ]
  },
  {
   "cell_type": "markdown",
   "metadata": {},
   "source": [
    "#### Guardian"
   ]
  },
  {
   "cell_type": "code",
   "execution_count": null,
   "metadata": {},
   "outputs": [],
   "source": [
    "get_describe('guardian')"
   ]
  },
  {
   "cell_type": "markdown",
   "metadata": {},
   "source": [
    "Проверим, есть ли зависимости у столбца guardian:"
   ]
  },
  {
   "cell_type": "code",
   "execution_count": null,
   "metadata": {},
   "outputs": [],
   "source": [
    "get_relation(stud_math, 'guardian', 0)"
   ]
  },
  {
   "cell_type": "markdown",
   "metadata": {},
   "source": [
    "По всем сводным таблицам зависимостей мы видим, что модой является мать. Заменим все пропуски на mother:"
   ]
  },
  {
   "cell_type": "code",
   "execution_count": null,
   "metadata": {},
   "outputs": [],
   "source": [
    "stud_math['guardian'].fillna('mother', inplace=True)"
   ]
  },
  {
   "cell_type": "markdown",
   "metadata": {},
   "source": [
    "#### Traveltime"
   ]
  },
  {
   "cell_type": "code",
   "execution_count": null,
   "metadata": {},
   "outputs": [],
   "source": [
    "get_describe('traveltime')"
   ]
  },
  {
   "cell_type": "markdown",
   "metadata": {},
   "source": [
    "Посмотрим на зависимости с traveltime:"
   ]
  },
  {
   "cell_type": "code",
   "execution_count": null,
   "metadata": {},
   "outputs": [],
   "source": [
    "get_relation(stud_math, 'traveltime', 0)"
   ]
  },
  {
   "cell_type": "markdown",
   "metadata": {},
   "source": [
    "Все зависимости кроме одной подказывают, что мода traveltime=1, поэтому возьмем за основу зависимость с выбором школы - school. Если школы GP, то traveltime=1, если школа MS, то выбираем traveltime=2."
   ]
  },
  {
   "cell_type": "code",
   "execution_count": null,
   "metadata": {},
   "outputs": [],
   "source": [
    "# Create dataframe with nan traveltime and school.\n",
    "df_travel = stud_math.iloc[np.where(pd.isnull(stud_math.traveltime))][[\n",
    "    'traveltime', 'school']]\n",
    "df_travel_keys = df_travel['traveltime'].keys()  # Extract indexes.\n",
    "display(df_travel_keys)\n",
    "\n",
    "school_val = df_travel['school'].values\n",
    "l = len(df_travel_keys)\n",
    "\n",
    "for i in range(0, l):\n",
    "    if school_val[i] == 'GP':\n",
    "        stud_math.loc[df_travel_keys[i], 'traveltime'] = 1\n",
    "    elif school_val[i] == 'MS':\n",
    "        stud_math.loc[df_travel_keys[i], 'traveltime'] = 2"
   ]
  },
  {
   "cell_type": "markdown",
   "metadata": {},
   "source": [
    "#### Studytime"
   ]
  },
  {
   "cell_type": "code",
   "execution_count": null,
   "metadata": {},
   "outputs": [],
   "source": [
    "get_describe('studytime')"
   ]
  },
  {
   "cell_type": "markdown",
   "metadata": {},
   "source": [
    "Пустых значений всего 7, посмотрим на них:"
   ]
  },
  {
   "cell_type": "code",
   "execution_count": null,
   "metadata": {},
   "outputs": [],
   "source": [
    "stud_math.iloc[np.where(pd.isnull(stud_math.studytime))][['reason', 'sex', 'traveltime', 'failures',\n",
    "                                                          'schoolsup', 'paid', 'activities', 'higher',\n",
    "                                                          'romantic', 'famrel', 'freetime', 'goout',\n",
    "                                                          'Medu', 'Fedu', 'health', 'absences', 'score']]"
   ]
  },
  {
   "cell_type": "markdown",
   "metadata": {},
   "source": [
    "Теперь посмотрим на зависимости studytime:"
   ]
  },
  {
   "cell_type": "code",
   "execution_count": null,
   "metadata": {},
   "outputs": [],
   "source": [
    "get_relation(stud_math, 'studytime', 0)"
   ]
  },
  {
   "cell_type": "markdown",
   "metadata": {},
   "source": [
    "Как видно из таблиц мода везде studytime=2 (самая читаемая зависимость у goout).  Заменим пропуски на 2:"
   ]
  },
  {
   "cell_type": "code",
   "execution_count": null,
   "metadata": {},
   "outputs": [],
   "source": [
    "stud_math['studytime'].fillna(2, inplace=True)"
   ]
  },
  {
   "cell_type": "markdown",
   "metadata": {},
   "source": [
    "#### Failures"
   ]
  },
  {
   "cell_type": "code",
   "execution_count": null,
   "metadata": {},
   "outputs": [],
   "source": [
    "get_describe('failures')"
   ]
  },
  {
   "cell_type": "markdown",
   "metadata": {},
   "source": [
    "Посмотрим, есть ли зависимости у промахов:"
   ]
  },
  {
   "cell_type": "code",
   "execution_count": null,
   "metadata": {},
   "outputs": [],
   "source": [
    "get_relation(stud_math, 'failures', 0)"
   ]
  },
  {
   "cell_type": "markdown",
   "metadata": {},
   "source": [
    "Исходя из таблиц зависимостей везде мода failure = 0. Заменим пропуски на нули:"
   ]
  },
  {
   "cell_type": "code",
   "execution_count": null,
   "metadata": {},
   "outputs": [],
   "source": [
    "stud_math['failures'].fillna(0, inplace=True)"
   ]
  },
  {
   "cell_type": "markdown",
   "metadata": {},
   "source": [
    "#### Schoolsup - school support"
   ]
  },
  {
   "cell_type": "code",
   "execution_count": null,
   "metadata": {},
   "outputs": [],
   "source": [
    "get_describe('schoolsup')"
   ]
  },
  {
   "cell_type": "markdown",
   "metadata": {},
   "source": [
    "Посмотрим, есть ли зависимости у столбца schoolsup:"
   ]
  },
  {
   "cell_type": "code",
   "execution_count": null,
   "metadata": {},
   "outputs": [],
   "source": [
    "get_relation(stud_math, 'schoolsup', 0)"
   ]
  },
  {
   "cell_type": "markdown",
   "metadata": {},
   "source": [
    "По всем показателям мода schoolsup=no. Сделаем замену:"
   ]
  },
  {
   "cell_type": "code",
   "execution_count": null,
   "metadata": {},
   "outputs": [],
   "source": [
    "stud_math.schoolsup.fillna('no', inplace=True)"
   ]
  },
  {
   "cell_type": "markdown",
   "metadata": {},
   "source": [
    "#### Activities"
   ]
  },
  {
   "cell_type": "code",
   "execution_count": null,
   "metadata": {},
   "outputs": [],
   "source": [
    "get_describe('activities')"
   ]
  },
  {
   "cell_type": "markdown",
   "metadata": {},
   "source": [
    "Посмотрим на эти пропуски:"
   ]
  },
  {
   "cell_type": "code",
   "execution_count": null,
   "metadata": {},
   "outputs": [],
   "source": [
    "stud_math.iloc[np.where(pd.isnull(stud_math.activities))][['reason', 'school', 'sex', 'failures',\n",
    "                                                           'paid', 'schoolsup', 'famsup', 'higher',\n",
    "                                                           'romantic', 'famrel', 'studytime', 'freetime', 'goout',\n",
    "                                                           'Medu', 'Fedu', 'health', 'absences', 'score']]"
   ]
  },
  {
   "cell_type": "markdown",
   "metadata": {},
   "source": [
    "Не думаю, что те студенты, которые не хотят поступать в университет, будут посещать доп занятия. Поставим студентам 160 и 163 - no."
   ]
  },
  {
   "cell_type": "code",
   "execution_count": null,
   "metadata": {},
   "outputs": [],
   "source": [
    "stud_math.loc[[160, 163], 'activities'] = 'no'"
   ]
  },
  {
   "cell_type": "markdown",
   "metadata": {},
   "source": [
    "Проверим, какие зависимости у activities:"
   ]
  },
  {
   "cell_type": "code",
   "execution_count": null,
   "metadata": {},
   "outputs": [],
   "source": [
    "get_relation(stud_math, 'activities', 0)"
   ]
  },
  {
   "cell_type": "markdown",
   "metadata": {},
   "source": [
    "Исходя из полученных данных, выберем зависимость с Medu. Но значения в ней очень близки. Посмотрим какой p value имеет зависимость activities c Fedu:"
   ]
  },
  {
   "cell_type": "code",
   "execution_count": null,
   "metadata": {},
   "outputs": [],
   "source": [
    "get_chi2(stud_math, 'activities', 'Fedu', 0.05, 1)"
   ]
  },
  {
   "cell_type": "markdown",
   "metadata": {},
   "source": [
    "Мы видим, что значение p value достаточно близко к альфа=0.05. Возможно если бы все было заполненно верно, зависимость была более явной. Сделаем допущение и рассмотрим также зависимость с Fedu."
   ]
  },
  {
   "cell_type": "markdown",
   "metadata": {},
   "source": [
    "Построим сводную таблицу по activities в разрезе Medu и Fedu (все значения по Fedu и Medu мы ранее заполнили, поэтому данные будут полными):"
   ]
  },
  {
   "cell_type": "code",
   "execution_count": null,
   "metadata": {},
   "outputs": [],
   "source": [
    "# Убираем нулевые значения Medu и Fedu.\n",
    "stud_math_edu = stud_math.loc[(stud_math.Medu != 0) & (stud_math.Fedu != 0)]\n",
    "\n",
    "pivot_act_edu = stud_math_edu.pivot_table(values=['score'], index=['activities', 'Fedu'], columns=['Medu'],\n",
    "                                          aggfunc='count', fill_value=0)\n",
    "display(pivot_act_edu)"
   ]
  },
  {
   "cell_type": "markdown",
   "metadata": {},
   "source": [
    "Теперь пробежимся по парам (Fedu, Medu) в выборке пустых activities и заменим на yes, либо no, исходя из сводной таблицы выше: какое из значений на пересечении указанной пары (Fedu, Medu) больше, то и выбираем либо yes, либо no. Сначала создадим матрицу 4 на 4 со значениями либо yes, либо no, исходя из нашей сводной таблицы. Допустим, что если значение в сводной таблице  в no будет >= чем в yes, то мы выберем activity = no."
   ]
  },
  {
   "cell_type": "code",
   "execution_count": null,
   "metadata": {},
   "outputs": [],
   "source": [
    "display(pivot_act_edu.xs(('yes', 1))[1])\n",
    "display(pivot_act_edu.xs(('no', 1))[1])"
   ]
  },
  {
   "cell_type": "code",
   "execution_count": null,
   "metadata": {},
   "outputs": [],
   "source": [
    "# Create empty activity matrix (4, 4).\n",
    "act_df = pd.DataFrame(index=[1, 2, 3, 4], columns=[1, 2, 3, 4])\n",
    "\n",
    "# Now we will fill this matrix with 'no' and 'yes' depending on pivot_act_edu.\n",
    "for i in range(1, 5):\n",
    "    for j in range(0, 4):\n",
    "        if pivot_act_edu.xs(('no', i))[j] >= pivot_act_edu.xs(('yes', i))[j]:\n",
    "            act_df[j+1][i] = 'no'\n",
    "        else:\n",
    "            act_df[j+1][i] = 'yes'\n",
    "\n",
    "display(act_df)"
   ]
  },
  {
   "cell_type": "code",
   "execution_count": null,
   "metadata": {},
   "outputs": [],
   "source": [
    "# Create dataframe with nan activities and two columns Medu, Fedu.\n",
    "df_act = stud_math.iloc[np.where(pd.isnull(stud_math.activities))][[\n",
    "    'activities', 'Fedu', 'Medu']]\n",
    "df_act_keys = df_act['activities'].keys()  # Extract indexes.\n",
    "display(df_act_keys)\n",
    "\n",
    "Medu_val = df_act['Medu'].values\n",
    "Fedu_val = df_act['Fedu'].values\n",
    "l = len(df_act_keys)\n",
    "\n",
    "for k in range(0, l):\n",
    "    for i in range(1, 5):  # strings of act_df\n",
    "        for j in range(1, 5):  # columns of act_df\n",
    "            if (Fedu_val[k] == i) & (Medu_val[k] == j):\n",
    "                stud_math.loc[df_act_keys[k], 'activities'] = act_df[j][i]"
   ]
  },
  {
   "cell_type": "markdown",
   "metadata": {},
   "source": [
    "Проверим, остались ли пропуски в activitites:"
   ]
  },
  {
   "cell_type": "code",
   "execution_count": null,
   "metadata": {},
   "outputs": [],
   "source": [
    "stud_math.iloc[np.where(pd.isnull(stud_math.activities))]"
   ]
  },
  {
   "cell_type": "markdown",
   "metadata": {},
   "source": [
    "#### Famsup - family support"
   ]
  },
  {
   "cell_type": "code",
   "execution_count": null,
   "metadata": {},
   "outputs": [],
   "source": [
    "get_describe('famsup')"
   ]
  },
  {
   "cell_type": "markdown",
   "metadata": {},
   "source": [
    "Посмотрим на зависимости famsup:"
   ]
  },
  {
   "cell_type": "code",
   "execution_count": null,
   "metadata": {},
   "outputs": [],
   "source": [
    "get_relation(stud_math, 'famsup', 0)"
   ]
  },
  {
   "cell_type": "markdown",
   "metadata": {},
   "source": [
    "Самыми подходящими зависимостями видятся Medu, Fedu. При их значениях всех, кроме 1, мода famsup = yes. Когда Medu и Fedu оба равны = 1, то no. Вопросом лишь остаются пары, где кто-то один из Medu, Fedu имеет 1, а второй другое значение. Посмотрим на эту выборку:"
   ]
  },
  {
   "cell_type": "code",
   "execution_count": null,
   "metadata": {},
   "outputs": [],
   "source": [
    "stud_math.iloc[np.where(pd.isnull(stud_math.famsup))][['school', 'sex', 'failures',\n",
    "                                                       'paid', 'schoolsup', 'famsup', 'higher',\n",
    "                                                       'romantic', 'famrel', 'studytime', 'freetime', 'goout',\n",
    "                                                       'Medu', 'Fedu', 'Mjob', 'Fjob', 'absences', 'score']].loc[\n",
    "    (stud_math.Medu == 1) | (stud_math.Fedu == 1)\n",
    "]"
   ]
  },
  {
   "cell_type": "markdown",
   "metadata": {},
   "source": [
    "Мы видим 5 одинаковых пар (2, 1), где непонятно выбрать yes или no (остальные будут no), посмотрим их отдельно:"
   ]
  },
  {
   "cell_type": "code",
   "execution_count": null,
   "metadata": {},
   "outputs": [],
   "source": [
    "stud_math.iloc[np.where(pd.isnull(stud_math.famsup))][['school', 'sex', 'failures',\n",
    "                                                       'paid', 'schoolsup', 'famsup', 'higher',\n",
    "                                                       'romantic', 'famrel', 'studytime', 'freetime', 'goout',\n",
    "                                                       'Medu', 'Fedu', 'Mjob', 'Fjob', 'absences', 'score']].loc[\n",
    "    (stud_math.Medu == 2) & (stud_math.Fedu == 1)\n",
    "]"
   ]
  },
  {
   "cell_type": "markdown",
   "metadata": {},
   "source": [
    "Из другой зависимости от пола, девочкам больше дают поддержку, нежели мальчикам, поэтому поставим yes девочкам, останутся два мальчика. Студент 78 имеет не хочет получать высшее, поэтому по таблице с higher famsup = no. У второго мальчика higher = nan, но исодя из работы матери (services) можем взять значение из этой сводной таблицы и увидеть, что там есть мода famsup = yes.\n",
    "\n",
    "Таким образом, пропуски в famsup заменяем на yes, кроме этих студентов:\n",
    "- 78 (M c higher=no)\n",
    "- 127 (Medu+Fedu = (0,1))\n",
    "- 61, 234, 272, 283 (Medu+Fedu = (1,1))"
   ]
  },
  {
   "cell_type": "code",
   "execution_count": null,
   "metadata": {},
   "outputs": [],
   "source": [
    "stud_math.loc[[78, 127, 61, 234, 272, 283], 'famsup'] = 'no'"
   ]
  },
  {
   "cell_type": "code",
   "execution_count": null,
   "metadata": {},
   "outputs": [],
   "source": [
    "stud_math.famsup.fillna('yes', inplace=True)"
   ]
  },
  {
   "cell_type": "code",
   "execution_count": null,
   "metadata": {},
   "outputs": [],
   "source": [
    "# Checking nan values in famsup.\n",
    "stud_math.iloc[np.where(pd.isnull(stud_math.famsup))]"
   ]
  },
  {
   "cell_type": "markdown",
   "metadata": {},
   "source": [
    "#### Paid"
   ]
  },
  {
   "cell_type": "code",
   "execution_count": null,
   "metadata": {},
   "outputs": [],
   "source": [
    "get_describe('paid')"
   ]
  },
  {
   "cell_type": "markdown",
   "metadata": {},
   "source": [
    "Посмотрим на зависимости столбца paid:"
   ]
  },
  {
   "cell_type": "code",
   "execution_count": null,
   "metadata": {},
   "outputs": [],
   "source": [
    "get_relation(stud_math, 'paid', 0)"
   ]
  },
  {
   "cell_type": "markdown",
   "metadata": {},
   "source": [
    "Наилучшими вариантами таблиц данных для заполнения пропусков в paid являются Medu, Mjob.\n",
    "При Medu = 1,2,3 - no. Посмотрим на выборку пропущенных paid, где Medu=0,4:"
   ]
  },
  {
   "cell_type": "code",
   "execution_count": null,
   "metadata": {},
   "outputs": [],
   "source": [
    "stud_math.iloc[np.where(pd.isnull(stud_math.paid))][['reason', 'sex', 'failures',\n",
    "                                                     'famsup', 'schoolsup', 'famsup', 'higher',\n",
    "                                                     'romantic', 'famrel', 'studytime', 'freetime', 'goout',\n",
    "                                                     'Medu', 'Fedu', 'Mjob', 'Fjob', 'absences', 'score']].loc[\n",
    "    (stud_math.Medu == 0) | (stud_math.Medu == 4)\n",
    "]"
   ]
  },
  {
   "cell_type": "markdown",
   "metadata": {},
   "source": [
    "Medu=0 нет, остаются = 4. Все ли paid будут по этой выборке = yes? Посмотрим на работу матери: при Mjob= other или home, paid = no (по сводной таблице зависимости выше). У нас есть только один студент с Mjob=other. Заменим у него paid на no:"
   ]
  },
  {
   "cell_type": "code",
   "execution_count": null,
   "metadata": {},
   "outputs": [],
   "source": [
    "stud_math.loc[384, 'paid'] = 'no'"
   ]
  },
  {
   "cell_type": "markdown",
   "metadata": {},
   "source": [
    "Остается заменить paid на no, когда Medu=1,2,3, и на yes, когда Medu=4:"
   ]
  },
  {
   "cell_type": "code",
   "execution_count": null,
   "metadata": {},
   "outputs": [],
   "source": [
    "# Create dataframe with nan paid and Medu.\n",
    "df_paid = stud_math.iloc[np.where(pd.isnull(stud_math.paid))][['paid', 'Medu']]\n",
    "df_paid_keys = df_paid['paid'].keys()  # Extract indexes.\n",
    "display(df_paid_keys)\n",
    "\n",
    "Medu_val = df_paid['Medu'].values\n",
    "l = len(df_paid_keys)\n",
    "\n",
    "for i in range(0, l):\n",
    "    if Medu_val[i] == 4:\n",
    "        stud_math.loc[df_paid_keys[i], 'paid'] = 'yes'\n",
    "    else:\n",
    "        stud_math.loc[df_paid_keys[i], 'paid'] = 'no'"
   ]
  },
  {
   "cell_type": "code",
   "execution_count": null,
   "metadata": {},
   "outputs": [],
   "source": [
    "# Checking nan values in paid.\n",
    "stud_math.iloc[np.where(pd.isnull(stud_math.paid))]"
   ]
  },
  {
   "cell_type": "markdown",
   "metadata": {},
   "source": [
    "#### Nursery"
   ]
  },
  {
   "cell_type": "code",
   "execution_count": null,
   "metadata": {},
   "outputs": [],
   "source": [
    "get_describe('nursery')"
   ]
  },
  {
   "cell_type": "markdown",
   "metadata": {},
   "source": [
    "Посмотрим на зависимости признака nursery:"
   ]
  },
  {
   "cell_type": "code",
   "execution_count": null,
   "metadata": {},
   "outputs": [],
   "source": [
    "get_relation(stud_math, 'nursery', 0)"
   ]
  },
  {
   "cell_type": "markdown",
   "metadata": {},
   "source": [
    "По всем зависимым признакам из таблиц мы видим, что мода nursery везде равна yes. Заменим пустые значения на yes:"
   ]
  },
  {
   "cell_type": "code",
   "execution_count": null,
   "metadata": {},
   "outputs": [],
   "source": [
    "stud_math.nursery.fillna('yes', inplace=True)"
   ]
  },
  {
   "cell_type": "markdown",
   "metadata": {},
   "source": [
    "#### Higher"
   ]
  },
  {
   "cell_type": "code",
   "execution_count": null,
   "metadata": {},
   "outputs": [],
   "source": [
    "get_describe('higher')"
   ]
  },
  {
   "cell_type": "code",
   "execution_count": null,
   "metadata": {},
   "outputs": [],
   "source": [
    "# Check dependence with other variables.\n",
    "get_relation(stud_math, 'higher', 0)"
   ]
  },
  {
   "cell_type": "markdown",
   "metadata": {},
   "source": [
    "Как мы видим из всех таблиц модой является значение yes. Заменим все пропуски:"
   ]
  },
  {
   "cell_type": "code",
   "execution_count": null,
   "metadata": {},
   "outputs": [],
   "source": [
    "stud_math.higher.fillna('yes', inplace=True)"
   ]
  },
  {
   "cell_type": "markdown",
   "metadata": {},
   "source": [
    "#### Internet"
   ]
  },
  {
   "cell_type": "code",
   "execution_count": null,
   "metadata": {},
   "outputs": [],
   "source": [
    "get_describe('internet')"
   ]
  },
  {
   "cell_type": "code",
   "execution_count": null,
   "metadata": {},
   "outputs": [],
   "source": [
    "# Check dependence with other variables.\n",
    "get_relation(stud_math, 'internet', 0)"
   ]
  },
  {
   "cell_type": "markdown",
   "metadata": {},
   "source": [
    "Как мы видим из всех таблиц модой является значение yes. Заменим все пропуски:"
   ]
  },
  {
   "cell_type": "code",
   "execution_count": null,
   "metadata": {},
   "outputs": [],
   "source": [
    "stud_math.internet.fillna('yes', inplace=True)"
   ]
  },
  {
   "cell_type": "markdown",
   "metadata": {},
   "source": [
    "#### Romantic"
   ]
  },
  {
   "cell_type": "code",
   "execution_count": null,
   "metadata": {},
   "outputs": [],
   "source": [
    "get_describe('romantic')"
   ]
  },
  {
   "cell_type": "code",
   "execution_count": null,
   "metadata": {},
   "outputs": [],
   "source": [
    "# Check dependence with other variables.\n",
    "get_relation(stud_math, 'romantic', 0)"
   ]
  },
  {
   "cell_type": "markdown",
   "metadata": {},
   "source": [
    "Исходя из трех таблиц мода romantic = no, кроме одного значения в таблице с higher: когда higher = no, то romantic скорее всего равно yes. Посмотрим на выборку пустых romantic, где higher = no:"
   ]
  },
  {
   "cell_type": "code",
   "execution_count": null,
   "metadata": {},
   "outputs": [],
   "source": [
    "stud_math.iloc[np.where(pd.isnull(stud_math.romantic))][['reason', 'sex', 'failures',\n",
    "                                                         'famsup', 'schoolsup', 'famsup', 'higher',\n",
    "                                                         'famrel', 'studytime', 'freetime', 'goout',\n",
    "                                                         'Medu', 'Fedu', 'Mjob', 'Fjob', 'absences', 'score']].loc[\n",
    "    stud_math.higher == 'no'\n",
    "]"
   ]
  },
  {
   "cell_type": "markdown",
   "metadata": {},
   "source": [
    "Всего лишь одна строка такая, заметим, что score=0, freetime = 5(максимум). Проставим этому студенту romantic=yes, а остальные пропуски заменим на no:"
   ]
  },
  {
   "cell_type": "code",
   "execution_count": null,
   "metadata": {},
   "outputs": [],
   "source": [
    "stud_math.loc[239, 'romantic'] = 'yes'"
   ]
  },
  {
   "cell_type": "code",
   "execution_count": null,
   "metadata": {},
   "outputs": [],
   "source": [
    "stud_math.romantic.fillna('no', inplace=True)"
   ]
  },
  {
   "cell_type": "markdown",
   "metadata": {},
   "source": [
    "#### Freetime"
   ]
  },
  {
   "cell_type": "code",
   "execution_count": null,
   "metadata": {},
   "outputs": [],
   "source": [
    "get_describe('freetime')"
   ]
  },
  {
   "cell_type": "markdown",
   "metadata": {},
   "source": [
    "Посмотрим на пропуски:"
   ]
  },
  {
   "cell_type": "code",
   "execution_count": null,
   "metadata": {},
   "outputs": [],
   "source": [
    "stud_math.iloc[np.where(pd.isnull(stud_math.freetime))][['reason', 'sex', 'failures',\n",
    "                                                         'famsup', 'schoolsup', 'famsup', 'higher',\n",
    "                                                         'famrel', 'studytime', 'goout', 'romantic',\n",
    "                                                         'Medu', 'Fedu', 'Mjob', 'Fjob', 'absences', 'score']]"
   ]
  },
  {
   "cell_type": "code",
   "execution_count": null,
   "metadata": {},
   "outputs": [],
   "source": [
    "# Check dependence with other variables.\n",
    "get_relation(stud_math, 'freetime', 0)"
   ]
  },
  {
   "cell_type": "markdown",
   "metadata": {},
   "source": [
    "Самая очевидная зависимость freetime c goout. В нашей выборке goout=1-4. При goout=1, мы получаем только одного студента - девушку с schoolsup=no, по обоим признакам мода = 3, заменим freetime у студента 311 на 3:"
   ]
  },
  {
   "cell_type": "code",
   "execution_count": null,
   "metadata": {},
   "outputs": [],
   "source": [
    "stud_math.loc[311, 'freetime'] = 3"
   ]
  },
  {
   "cell_type": "markdown",
   "metadata": {},
   "source": [
    "При goout=2-3 мода freetime = 3, goout=4 => freetime=4. Сделаем соответствующие замены:"
   ]
  },
  {
   "cell_type": "code",
   "execution_count": null,
   "metadata": {},
   "outputs": [],
   "source": [
    "# Create dataframe with nan freetime and goout.\n",
    "df_free = stud_math.iloc[np.where(pd.isnull(stud_math.freetime))][[\n",
    "    'freetime', 'goout']]\n",
    "df_free_keys = df_free['freetime'].keys()  # Extract indexes.\n",
    "display(df_free_keys)\n",
    "\n",
    "goout_val = df_free['goout'].values\n",
    "l = len(df_free_keys)\n",
    "\n",
    "for i in range(0, l):\n",
    "    if goout_val[i] == 4:\n",
    "        stud_math.loc[df_free_keys[i], 'freetime'] = 4\n",
    "    else:\n",
    "        stud_math.loc[df_free_keys[i], 'freetime'] = 3"
   ]
  },
  {
   "cell_type": "code",
   "execution_count": null,
   "metadata": {},
   "outputs": [],
   "source": [
    "# Check nan values in freetime.\n",
    "stud_math.iloc[np.where(pd.isnull(stud_math.freetime))]"
   ]
  },
  {
   "cell_type": "markdown",
   "metadata": {},
   "source": [
    "#### Goout"
   ]
  },
  {
   "cell_type": "code",
   "execution_count": null,
   "metadata": {},
   "outputs": [],
   "source": [
    "get_describe('goout')"
   ]
  },
  {
   "cell_type": "markdown",
   "metadata": {},
   "source": [
    "Посмотрим на пропущенные значения goout:"
   ]
  },
  {
   "cell_type": "code",
   "execution_count": null,
   "metadata": {},
   "outputs": [],
   "source": [
    "stud_math.iloc[np.where(pd.isnull(stud_math.goout))][['sex', 'failures', 'traveltime',\n",
    "                                                      'famsup', 'schoolsup', 'famsup', 'higher',\n",
    "                                                      'famrel', 'studytime', 'freetime', 'romantic',\n",
    "                                                      'Medu', 'Fedu', 'Mjob', 'Fjob', 'absences', 'score']]"
   ]
  },
  {
   "cell_type": "code",
   "execution_count": null,
   "metadata": {},
   "outputs": [],
   "source": [
    "# Check dependence with other variables.\n",
    "get_relation(stud_math, 'goout', 0)"
   ]
  },
  {
   "cell_type": "markdown",
   "metadata": {},
   "source": [
    "По логике самой очевидной зависимостью является столбец freetime. При freetime равным 2,3,4,5 мы получаем, что goout равен 2,3,4,5. Если freetime=1, мы видим из выборки одного такого студента: studytime=2, traveltime=1 отсюда мода goout=3. Сделаем соответствующие замены:"
   ]
  },
  {
   "cell_type": "code",
   "execution_count": null,
   "metadata": {},
   "outputs": [],
   "source": [
    "stud_math.loc[89, 'goout'] = 3"
   ]
  },
  {
   "cell_type": "code",
   "execution_count": null,
   "metadata": {},
   "outputs": [],
   "source": [
    "# Create dataframe with nan goout and freetime.\n",
    "df_goout = stud_math.iloc[np.where(pd.isnull(stud_math.goout))][[\n",
    "    'goout', 'freetime']]\n",
    "df_goout_keys = df_goout['goout'].keys()  # Extract indexes.\n",
    "display(df_goout_keys)\n",
    "\n",
    "freetime_val = df_goout['freetime'].values\n",
    "l = len(df_goout_keys)\n",
    "\n",
    "for i in range(0, l):\n",
    "    if freetime_val[i] == 2:\n",
    "        stud_math.loc[df_goout_keys[i], 'goout'] = 2\n",
    "    elif freetime_val[i] == 3:\n",
    "        stud_math.loc[df_goout_keys[i], 'goout'] = 3\n",
    "    elif freetime_val[i] == 4:\n",
    "        stud_math.loc[df_goout_keys[i], 'goout'] = 4\n",
    "    elif freetime_val[i] == 5:\n",
    "        stud_math.loc[df_goout_keys[i], 'goout'] = 5"
   ]
  },
  {
   "cell_type": "code",
   "execution_count": null,
   "metadata": {},
   "outputs": [],
   "source": [
    "# Checking nan values in goout.\n",
    "stud_math.iloc[np.where(pd.isnull(stud_math.goout))]"
   ]
  },
  {
   "cell_type": "markdown",
   "metadata": {},
   "source": [
    "Столбцы freetime и goout прямозависимы, но какой из них удалить, пока не ясно, так как они имеют зависимости с разными признаками в датафрейме. Позже посмотрим на зависимости их обоих с целевой переменной score."
   ]
  },
  {
   "cell_type": "markdown",
   "metadata": {},
   "source": [
    "#### Health"
   ]
  },
  {
   "cell_type": "code",
   "execution_count": null,
   "metadata": {},
   "outputs": [],
   "source": [
    "get_describe('health')"
   ]
  },
  {
   "cell_type": "code",
   "execution_count": null,
   "metadata": {},
   "outputs": [],
   "source": [
    "# Check dependence with other variables.\n",
    "get_relation(stud_math, 'health', 0)"
   ]
  },
  {
   "cell_type": "markdown",
   "metadata": {},
   "source": [
    "Интересные зависимости, посмотрим на выборку пустых значений с этими столбцами:"
   ]
  },
  {
   "cell_type": "code",
   "execution_count": null,
   "metadata": {},
   "outputs": [],
   "source": [
    "stud_math.iloc[np.where(pd.isnull(stud_math.health))][['reason', 'sex', 'failures', 'traveltime',\n",
    "                                                       'famsup', 'higher', 'studytime', 'freetime',\n",
    "                                                       'famrel', 'romantic', 'guardian',\n",
    "                                                       'Medu', 'Fedu', 'Mjob', 'Fjob', 'absences', 'score']]"
   ]
  },
  {
   "cell_type": "markdown",
   "metadata": {},
   "source": [
    "По всем данным почти везде мода health=5. Лишь в guardian=other она равна 3, но такого значения guardian в нашей выборке нет. При studytime=4 мода health отлична от 5, она равна 3, заменим у троих таких студентов health на 3:"
   ]
  },
  {
   "cell_type": "code",
   "execution_count": null,
   "metadata": {},
   "outputs": [],
   "source": [
    "stud_math.loc[[256, 259, 330], 'health'] = 3"
   ]
  },
  {
   "cell_type": "markdown",
   "metadata": {},
   "source": [
    "Остальные значения заменим на health = 5:"
   ]
  },
  {
   "cell_type": "code",
   "execution_count": null,
   "metadata": {},
   "outputs": [],
   "source": [
    "stud_math.health.fillna(5, inplace=True)"
   ]
  },
  {
   "cell_type": "code",
   "execution_count": null,
   "metadata": {},
   "outputs": [],
   "source": [
    "# Checking nan values in goout.\n",
    "stud_math.iloc[np.where(pd.isnull(stud_math.health))]"
   ]
  },
  {
   "cell_type": "markdown",
   "metadata": {},
   "source": [
    "### Анализ номинативных переменных"
   ]
  },
  {
   "cell_type": "markdown",
   "metadata": {},
   "source": [
    "Посмотрим различаются ли распределения оценки score в зависимости от значений в номинативных переменных. Перечислим эти переменные:"
   ]
  },
  {
   "cell_type": "code",
   "execution_count": null,
   "metadata": {},
   "outputs": [],
   "source": [
    "stud_math.columns.drop(['age', 'score', 'absences'])"
   ]
  },
  {
   "cell_type": "code",
   "execution_count": null,
   "metadata": {},
   "outputs": [],
   "source": [
    "column_list = stud_math.columns.drop(['age', 'score', 'absences']).tolist()"
   ]
  },
  {
   "cell_type": "markdown",
   "metadata": {},
   "source": [
    "Посмотрим на графики распределений с помощью boxplot и функции из предобработки:"
   ]
  },
  {
   "cell_type": "code",
   "execution_count": null,
   "metadata": {},
   "outputs": [],
   "source": [
    "for col in column_list:\n",
    "    get_boxplot(stud_math, col)"
   ]
  },
  {
   "cell_type": "markdown",
   "metadata": {},
   "source": [
    "Исходя из графиков, есть большая вероятность, что значимыми столбцами будут: address, Medu, Fedu, Mjob, studytime, failures, schoolsup, paid, higher, goout."
   ]
  },
  {
   "cell_type": "markdown",
   "metadata": {},
   "source": [
    "Попробуем построить графики для датафрейма, где оценка по мат-ке не равна 0 (как мы помним таких строчек было 37). Для этого создадим отдельный датафрейм, где оценка не равна 0:"
   ]
  },
  {
   "cell_type": "code",
   "execution_count": null,
   "metadata": {},
   "outputs": [],
   "source": [
    "score_notnull = stud_math.loc[stud_math.score != 0]"
   ]
  },
  {
   "cell_type": "code",
   "execution_count": null,
   "metadata": {},
   "outputs": [],
   "source": [
    "# Create boxplots with dataframe where score is not null.\n",
    "for col in column_list:\n",
    "    get_boxplot(score_notnull, col)"
   ]
  },
  {
   "cell_type": "markdown",
   "metadata": {},
   "source": [
    "По этим боксплотам значимыми столбцами могут быть: address, sex, Medu, Fedu, Mjob, Fjob, studytime, failures, schoolsup, higher, goout. Отличия немного есть."
   ]
  },
  {
   "cell_type": "markdown",
   "metadata": {},
   "source": [
    "Теперь посмотрим, есть ли статистическая разница в распределении оценок по номинативным признакам с помощью теста Стьюдента. Проверим нулевую гипотезу о том, что распределения оценок по математике по различным параметрам неразличимы:"
   ]
  },
  {
   "cell_type": "code",
   "execution_count": null,
   "metadata": {},
   "outputs": [],
   "source": [
    "for col in column_list:\n",
    "    get_ttest(stud_math, col)"
   ]
  },
  {
   "cell_type": "markdown",
   "metadata": {},
   "source": [
    "Проверим теперь отдельно, изменятся ли итоговые столбцы, если оценка не равна 0:"
   ]
  },
  {
   "cell_type": "code",
   "execution_count": null,
   "metadata": {},
   "outputs": [],
   "source": [
    "for col in column_list:\n",
    "    get_ttest(score_notnull, col)"
   ]
  },
  {
   "cell_type": "markdown",
   "metadata": {},
   "source": [
    "Как мы видим пересечение имеется, но всего по 5 столбцам: address, Medu, Fedu, Mjob, failures. \n",
    "\n",
    "Столбцы, которые отличаются, все по здравому смыслу влияют на оценку студентов. Заметим также, что во втором тесте p value по общим параметрам получились даже лучше. Итак, возьмем объединие двух получившихся множеств показателей."
   ]
  },
  {
   "cell_type": "markdown",
   "metadata": {},
   "source": [
    "### Выводы: \n",
    "\n",
    "- все пустые значения были заполнены, данные стали полными.\n",
    "- выбросы были найдены только в графе \"age\" (22 года) и \"absences\" (больше 25), но все значения оставлены из здравого смысла.\n",
    "- отрицательная корреляция между score и age говорит нам о том, что с возрастом оценка ухудшается, а отрицательная корреляция score c absences - о том, что чем больше пропусков, тем ниже оценка. Оба вывода вполне логичны. \n",
    "-  самые важные параметры, которые мы оставим для построения дальнейшей модели - это age, absences, address, Medu, Fedu, Mjob, Fjob, failures, paid, higher, romantic, studytime, schoolsup, goout."
   ]
  }
 ],
 "metadata": {
  "kernelspec": {
   "display_name": "Python 3",
   "language": "python",
   "name": "python3"
  },
  "language_info": {
   "codemirror_mode": {
    "name": "ipython",
    "version": 3
   },
   "file_extension": ".py",
   "mimetype": "text/x-python",
   "name": "python",
   "nbconvert_exporter": "python",
   "pygments_lexer": "ipython3",
   "version": "3.7.6"
  }
 },
 "nbformat": 4,
 "nbformat_minor": 4
}
